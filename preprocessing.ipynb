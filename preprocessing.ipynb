{
 "cells": [
  {
   "cell_type": "code",
   "execution_count": null,
   "metadata": {},
   "outputs": [],
   "source": [
    "import cv2\n",
    "import tensorflow\n",
    "import numpy as np\n",
    "import os"
   ]
  },
  {
   "cell_type": "code",
   "execution_count": null,
   "metadata": {},
   "outputs": [],
   "source": [
    "def creating_folder(path):\n",
    "    if os.path.exists(path):\n",
    "        pass\n",
    "    else:\n",
    "        print(\"Path is Creating...\")\n",
    "        os.mkdir(path)\n",
    "        \n",
    "def creating_folders(path):\n",
    "    \n",
    "    if os.path.exists(path+\"\\\\\"+\"test\"):\n",
    "        for i in range(0, 100):\n",
    "            if os.path.exists(path+\"\\\\\"+\"test\"+\"\\\\\"+str(i)):\n",
    "                pass\n",
    "            else:\n",
    "                os.mkdir(path+\"\\\\\"+\"test\"+\"\\\\\"+str(i))\n",
    "    else:\n",
    "        os.mkdir(path+\"\\\\\"+\"test\")\n",
    "        for i in range(0, 100):\n",
    "            if os.path.exists(path+\"\\\\\"+\"test\"+\"\\\\\"+str(i)):\n",
    "                pass\n",
    "            else:\n",
    "                os.mkdir(path+\"\\\\\"+\"test\"+\"\\\\\"+str(i))\n",
    "                \n",
    "    if os.path.exists(path+\"\\\\\"+\"train\"):\n",
    "        for i in range(0, 100):\n",
    "            if os.path.exists(path+\"\\\\\"+\"train\"+\"\\\\\"+str(i)):\n",
    "                pass\n",
    "            else:\n",
    "                os.mkdir(path+\"\\\\\"+\"train\"+\"\\\\\"+str(i))\n",
    "    else:\n",
    "        os.mkdir(path+\"\\\\\"+\"train\")\n",
    "        for i in range(0, 100):\n",
    "            if os.path.exists(path+\"\\\\\"+\"train\"+\"\\\\\"+str(i)):\n",
    "                pass\n",
    "            else:\n",
    "                os.mkdir(path+\"\\\\\"+\"train\"+\"\\\\\"+str(i))\n",
    "            \n",
    "\n",
    "path = r\"C:\\Users\\SUPERMAN\\Desktop\\hand\\image_Sep\"\n",
    "creating_folders(path)"
   ]
  },
  {
   "cell_type": "code",
   "execution_count": null,
   "metadata": {},
   "outputs": [],
   "source": [
    "def inserting_images(path):\n",
    "    li = [os.getcwd()+\"\\\\Corel10000\"+\"\\\\\"+image for image in os.listdir(\"./Corel10000\") if image.endswith(\".jpg\")]\n",
    "    #print(li[10])\n",
    "    for i in range(100):\n",
    "        for j in range(len(li)):\n",
    "            #print(\"li[j][42:]\")\n",
    "            if li[j][42:].startswith(str(i)):\n",
    "                #print(li[j][42:], \"we got it ma...\", li[j][-6] == \"_\")\n",
    "                if li[j][-6] != \"_\" and int(li[j][-6:-4])%10 == 0:\n",
    "                    #print(\"Now it is 10 percent...\", li[j][-6:-4])\n",
    "                    img = cv2.imread(li[j], cv2.IMREAD_COLOR)\n",
    "                    print(path+\"\\\\\"+\"test\"+\"\\\\\"+str(i)+\"\\\\\"+\"00\"+f\"{li[j][42:-4]}.jpg\")\n",
    "                    if img is not None:\n",
    "                        cv2.imwrite(path+\"\\\\\"+\"test\"+\"\\\\\"+str(i)+\"\\\\\"+\"00\"+f\"{li[j][42:-4]}.jpg\", img)\n",
    "                    else:\n",
    "                        print(\"None Image.....\")\n",
    "                else:\n",
    "                    #print(\"Now it is 90 percent...\", li[j][-6:-4])\n",
    "                    img = cv2.imread(li[j], cv2.IMREAD_COLOR)\n",
    "                    if img is not None:\n",
    "                        #print(path+\"\\\\\"+\"train\"+\"\\\\\"+str(i)+\"\\\\\"+\"00\"+f\"{li[42:-4]}.jpg\")\n",
    "                        cv2.imwrite(path+\"\\\\\"+\"train\"+\"\\\\\"+str(i)+\"\\\\\"+\"00\"+f\"{li[j][42:-4]}.jpg\", img)\n",
    "                    else:\n",
    "                        print(\"None Image....\")\n",
    "            else:\n",
    "                print(\"sorry\", li[j][42:])\n",
    "                pass\n",
    "\n",
    "inserting_images(r\"C:\\Users\\SUPERMAN\\Desktop\\hand\\image_Sep\")"
   ]
  },
  {
   "cell_type": "code",
   "execution_count": null,
   "metadata": {},
   "outputs": [],
   "source": []
  }
 ],
 "metadata": {
  "kernelspec": {
   "display_name": "Python 3",
   "language": "python",
   "name": "python3"
  },
  "language_info": {
   "codemirror_mode": {
    "name": "ipython",
    "version": 3
   },
   "file_extension": ".py",
   "mimetype": "text/x-python",
   "name": "python",
   "nbconvert_exporter": "python",
   "pygments_lexer": "ipython3",
   "version": "3.7.4"
  }
 },
 "nbformat": 4,
 "nbformat_minor": 2
}
